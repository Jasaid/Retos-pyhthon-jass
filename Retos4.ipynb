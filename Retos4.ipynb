{
  "nbformat": 4,
  "nbformat_minor": 0,
  "metadata": {
    "colab": {
      "provenance": []
    },
    "kernelspec": {
      "name": "python3",
      "display_name": "Python 3"
    },
    "language_info": {
      "name": "python"
    }
  },
  "cells": [
    {
      "cell_type": "markdown",
      "source": [
        "Reto 1.\n",
        "➕ Crea una lista de tiempos en horas que una persona pasó en redes sociales durante una semana. Ej: 2, 1.5, 2.5, 3, 1, 4,\n",
        "\n",
        "📜 Define una función para calcular el tiempo promedio diario de una persona.\n",
        "\n",
        "Considera que la función puede manejar listas vacías, retornando 0 en esos casos, es posible utilizar la función len().\n",
        "Existe una función sum() que puede ser útil para sumar los elementos de una lista.\n",
        "🔄 Llama a la función, obtén el resultado e imprime un mensaje similar:\n",
        "\n",
        "✉️ El tiempo promedio diario en redes sociales es de 2.07 horas.\n",
        "🔄 Define una función lambda para convertir el tiempo obtenido de horas a minutos, e imprime un mensaje similar:\n",
        "\n",
        "✉️ El tiempo promedio diario en redes sociales es de 124.29 minutos por día."
      ],
      "metadata": {
        "id": "Mj1ZgkAwYXWG"
      }
    },
    {
      "cell_type": "code",
      "execution_count": 1,
      "metadata": {
        "colab": {
          "base_uri": "https://localhost:8080/"
        },
        "id": "Qc-WRFUaYVtB",
        "outputId": "c20c06ec-fd3c-4dca-f0fd-ff1b341796dc"
      },
      "outputs": [
        {
          "output_type": "stream",
          "name": "stdout",
          "text": [
            "El tiempo promedio diario en redes sociales es de 2.29 horas.\n",
            "El tiempo promedio diario en redes sociales es de 137.14 minutos por día.\n"
          ]
        }
      ],
      "source": [
        "# 1. Lista con los tiempos en horas\n",
        "tiempos = [2, 1.5, 2.5, 3, 1, 4, 2]\n",
        "\n",
        "# 2. Función para calcular el promedio diario\n",
        "def promedio(lista):\n",
        "    if len(lista) == 0:\n",
        "        return 0\n",
        "    return sum(lista) / len(lista)\n",
        "\n",
        "# 3. Llamar a la función y mostrar el resultado\n",
        "promedio_horas = promedio(tiempos)\n",
        "print(f\"El tiempo promedio diario en redes sociales es de {promedio_horas:.2f} horas.\")\n",
        "\n",
        "# 4. Función lambda para convertir horas a minutos\n",
        "a_minutos = lambda horas: horas * 60\n",
        "\n",
        "# 5. Imprimir el resultado en minutos\n",
        "promedio_minutos = a_minutos(promedio_horas)\n",
        "print(f\"El tiempo promedio diario en redes sociales es de {promedio_minutos:.2f} minutos por día.\")\n"
      ]
    },
    {
      "cell_type": "markdown",
      "source": [
        "Reto 2.\n",
        "📜 Define una función buscar_productos que permita filtrar los productos según el nombre, marca y/o categoria especificada por el usuario, lectura por teclado es opcional.\n",
        "\n",
        "La función debe aceptar tres parámetros opcionales:\n",
        "nombre\n",
        "marca\n",
        "categoria\n",
        "Si un parámetro no es proporcionado, la función debe ser capaz de manejarlo y no utilizarlo como criterio de filtro.\n",
        "➕ Crea una lista con al menos 5 productos, cada uno representado por un diccionario con las siguientes claves:\n",
        "\n",
        "Nombre del producto.\n",
        "Marca.\n",
        "Categoría.\n",
        "🔄 Llama a la función con diferentes combinaciones de parámetros para probar su funcionalidad. Por ejemplo:\n",
        "\n",
        "Buscar todos los productos de la 'Marca A'.\n",
        "\n",
        "Buscar todos los productos que pertenezcan a la categoría 'Electrónica'.\n",
        "\n",
        "Buscar productos que cumplan con ambas condiciones específicas.\n",
        "\n",
        "Utiliza operadores lógicos como and y or para filtrar los productos dentro de la función, según los criterios especificados:\n",
        "\n",
        "nombre\n",
        "marca\n",
        "categoria\n",
        "✉️ Imprime los resultados de las búsquedas de manera clara y concisa, indicando si se encontraron productos o si la búsqueda no arrojó resultados.\n",
        "\n",
        "Producto encontrado: Producto 1 - Marca: Marca A - Categoría: Electrónica."
      ],
      "metadata": {
        "id": "hlnX98ejYyId"
      }
    },
    {
      "cell_type": "code",
      "source": [
        "# 1. Lista de productos (cada producto es un diccionario)\n",
        "productos = [\n",
        "    {\"nombre\": \"Laptop\", \"marca\": \"Marca A\", \"categoria\": \"Electrónica\"},\n",
        "    {\"nombre\": \"Teléfono\", \"marca\": \"Marca B\", \"categoria\": \"Electrónica\"},\n",
        "    {\"nombre\": \"Cámara\", \"marca\": \"Marca A\", \"categoria\": \"Fotografía\"},\n",
        "    {\"nombre\": \"Auriculares\", \"marca\": \"Marca C\", \"categoria\": \"Audio\"},\n",
        "    {\"nombre\": \"Monitor\", \"marca\": \"Marca A\", \"categoria\": \"Electrónica\"}\n",
        "]\n",
        "\n",
        "# 2. Función para buscar productos según los criterios opcionales\n",
        "def buscar_productos(nombre=None, marca=None, categoria=None):\n",
        "    resultados = []\n",
        "\n",
        "    for producto in productos:\n",
        "        if (nombre is None or producto[\"nombre\"] == nombre) and \\\n",
        "           (marca is None or producto[\"marca\"] == marca) and \\\n",
        "           (categoria is None or producto[\"categoria\"] == categoria):\n",
        "            resultados.append(producto)\n",
        "\n",
        "    # 3. Imprimir resultados\n",
        "    if resultados:\n",
        "        for prod in resultados:\n",
        "            print(f\"Producto encontrado: {prod['nombre']} - Marca: {prod['marca']} - Categoría: {prod['categoria']}.\")\n",
        "    else:\n",
        "        print(\"No se encontraron productos con los criterios especificados.\")\n",
        "\n",
        "# 4. Pruebas con diferentes criterios\n",
        "print(\"\\n Búsqueda por marca 'Marca A':\")\n",
        "buscar_productos(marca=\"Marca A\")\n",
        "\n",
        "print(\"\\n Búsqueda por categoría 'Electrónica':\")\n",
        "buscar_productos(categoria=\"Electrónica\")\n",
        "\n",
        "print(\"\\n Búsqueda por marca 'Marca A' y categoría 'Electrónica':\")\n",
        "buscar_productos(marca=\"Marca A\", categoria=\"Electrónica\")\n",
        "\n",
        "print(\"\\n Búsqueda sin coincidencias:\")\n",
        "buscar_productos(marca=\"Marca X\")\n"
      ],
      "metadata": {
        "colab": {
          "base_uri": "https://localhost:8080/"
        },
        "id": "TTGp8dW8ZNPQ",
        "outputId": "e1dbd5d4-2717-42e3-8112-706f71acc4f8"
      },
      "execution_count": 2,
      "outputs": [
        {
          "output_type": "stream",
          "name": "stdout",
          "text": [
            "\n",
            " Búsqueda por marca 'Marca A':\n",
            "Producto encontrado: Laptop - Marca: Marca A - Categoría: Electrónica.\n",
            "Producto encontrado: Cámara - Marca: Marca A - Categoría: Fotografía.\n",
            "Producto encontrado: Monitor - Marca: Marca A - Categoría: Electrónica.\n",
            "\n",
            " Búsqueda por categoría 'Electrónica':\n",
            "Producto encontrado: Laptop - Marca: Marca A - Categoría: Electrónica.\n",
            "Producto encontrado: Teléfono - Marca: Marca B - Categoría: Electrónica.\n",
            "Producto encontrado: Monitor - Marca: Marca A - Categoría: Electrónica.\n",
            "\n",
            " Búsqueda por marca 'Marca A' y categoría 'Electrónica':\n",
            "Producto encontrado: Laptop - Marca: Marca A - Categoría: Electrónica.\n",
            "Producto encontrado: Monitor - Marca: Marca A - Categoría: Electrónica.\n",
            "\n",
            " Búsqueda sin coincidencias:\n",
            "No se encontraron productos con los criterios especificados.\n"
          ]
        }
      ]
    },
    {
      "cell_type": "markdown",
      "source": [
        "Reto 3.\n",
        "💼 Declara una lista de ventas ficticias, cada una con un id y un monto de venta. Asegúrate de incluir al menos 5 ventas diferentes.\n",
        "\n",
        "🔍 Usa la función filter para obtener solo las ventas que superan un cierto umbral de ingresos. Declara una variable para el umbral y úsala en el filtro.\n",
        "\n",
        "🖨️ Imprime la lista de ventas que superan el umbral de ingresos de la siguiente manera:\n",
        "\n",
        "Ventas que superan el umbral de ingresos:\n",
        "{'id': 1, 'monto': 150}\n",
        "{'id': 2, 'monto': 200}\n",
        "💸 Usa la función map para aplicar un impuesto del 15% a los montos de ventas. Declara una variable para la tasa de impuesto y úsala en la transformación.\n",
        "\n",
        "🖨️ Imprime la lista de ventas con el impuesto aplicado de la siguiente manera:\n",
        "\n",
        "Ventas con impuesto aplicado:\n",
        "{'id': 1, 'monto': 172.5}\n",
        "{'id': 2, 'monto': 230.0}\n",
        "🧮 Usa la función reduce para calcular el ingreso total de las ventas. Asegúrate de inicializar el acumulador en 0.\n",
        "\n",
        "🖨️ Imprime el ingreso total de ventas de la siguiente manera:\n",
        "\n",
        "Ingreso total de ventas: 810"
      ],
      "metadata": {
        "id": "yJlO8_CKZwSL"
      }
    },
    {
      "cell_type": "code",
      "source": [
        "from functools import reduce\n",
        "\n",
        "# 1. Lista de ventas ficticias\n",
        "ventas = [\n",
        "    {\"id\": 1, \"monto\": 150},\n",
        "    {\"id\": 2, \"monto\": 200},\n",
        "    {\"id\": 3, \"monto\": 50},\n",
        "    {\"id\": 4, \"monto\": 300},\n",
        "    {\"id\": 5, \"monto\": 80}\n",
        "]\n",
        "\n",
        "# 2. Filtrar ventas que superan un cierto umbral\n",
        "umbral = 100\n",
        "ventas_filtradas = list(filter(lambda venta: venta[\"monto\"] > umbral, ventas))\n",
        "\n",
        "# Imprimir las ventas que superan el umbral\n",
        "print(\"\\nVentas que superan el umbral de ingresos:\")\n",
        "for venta in ventas_filtradas:\n",
        "    print(venta)\n",
        "\n",
        "# 3. Aplicar impuesto del 15% a los montos de ventas\n",
        "tasa_impuesto = 0.15\n",
        "ventas_con_impuesto = list(map(lambda venta: {\"id\": venta[\"id\"], \"monto\": venta[\"monto\"] * (1 + tasa_impuesto)}, ventas))\n",
        "\n",
        "# Imprimir las ventas con el impuesto aplicado\n",
        "print(\"\\nVentas con impuesto aplicado:\")\n",
        "for venta in ventas_con_impuesto:\n",
        "    print(venta)\n",
        "\n",
        "# 4. Calcular el ingreso total de ventas con reduce\n",
        "ingreso_total = reduce(lambda total, venta: total + venta[\"monto\"], ventas, 0)\n",
        "\n",
        "# Imprimir el ingreso total\n",
        "print(f\"\\nIngreso total de ventas: {ingreso_total}\")\n"
      ],
      "metadata": {
        "colab": {
          "base_uri": "https://localhost:8080/"
        },
        "id": "1zZAM0rEaMXr",
        "outputId": "cd3be298-7be0-443c-fe54-4b577f60dca3"
      },
      "execution_count": 3,
      "outputs": [
        {
          "output_type": "stream",
          "name": "stdout",
          "text": [
            "\n",
            "Ventas que superan el umbral de ingresos:\n",
            "{'id': 1, 'monto': 150}\n",
            "{'id': 2, 'monto': 200}\n",
            "{'id': 4, 'monto': 300}\n",
            "\n",
            "Ventas con impuesto aplicado:\n",
            "{'id': 1, 'monto': 172.5}\n",
            "{'id': 2, 'monto': 229.99999999999997}\n",
            "{'id': 3, 'monto': 57.49999999999999}\n",
            "{'id': 4, 'monto': 345.0}\n",
            "{'id': 5, 'monto': 92.0}\n",
            "\n",
            "Ingreso total de ventas: 780\n"
          ]
        }
      ]
    }
  ]
}