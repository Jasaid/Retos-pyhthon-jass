{
  "nbformat": 4,
  "nbformat_minor": 0,
  "metadata": {
    "colab": {
      "provenance": []
    },
    "kernelspec": {
      "name": "python3",
      "display_name": "Python 3"
    },
    "language_info": {
      "name": "python"
    }
  },
  "cells": [
    {
      "cell_type": "markdown",
      "source": [
        "📜 Define una lista de tuplas donde cada tupla represente una reservación. Con los siguientes datos:\n",
        "\n",
        "Nombre del cliente\n",
        "Cantidad de personas\n",
        "➕ Añade al menos 5 reservaciones a la lista.\n",
        "\n",
        "➖ Elimina una reservación existente de la lista.\n",
        "\n",
        "🔄 Finalmente recorre la lista de reservaciones e imprime un mensaje personalizado:"
      ],
      "metadata": {
        "id": "t0NTIKCLKohB"
      }
    },
    {
      "cell_type": "code",
      "source": [
        "# 1. Definir una lista de tuplas para las reservaciones\n",
        "reservaciones = [\n",
        "    (\"Mario Gonzalez\", 4),\n",
        "    (\"Ana Torres\", 2),\n",
        "    (\"Carlos Sánchez\", 6),\n",
        "    (\"Luisa Fernández\", 3),\n",
        "    (\"Pedro Gómez\", 5)\n",
        "]\n",
        "print(reservaciones)\n",
        "\n",
        "# 2. Elimina una reservación\n",
        "reservacion_eliminada = reservaciones.pop(0)\n",
        "print(reservaciones)\n",
        "\n",
        "# 3.  Imprime un mensaje personalizado\n",
        "for nombre, personas in reservaciones:\n",
        "    print(f\"Reservación: {nombre} Para: {personas} personas\")"
      ],
      "metadata": {
        "id": "MzgWUrs8Kmz8",
        "colab": {
          "base_uri": "https://localhost:8080/"
        },
        "outputId": "02bb6346-abad-4b4a-ecdc-19ab916a193d"
      },
      "execution_count": 1,
      "outputs": [
        {
          "output_type": "stream",
          "name": "stdout",
          "text": [
            "[('Mario Gonzalez', 4), ('Ana Torres', 2), ('Carlos Sánchez', 6), ('Luisa Fernández', 3), ('Pedro Gómez', 5)]\n",
            "[('Ana Torres', 2), ('Carlos Sánchez', 6), ('Luisa Fernández', 3), ('Pedro Gómez', 5)]\n",
            "Reservación: Ana Torres Para: 2 personas\n",
            "Reservación: Carlos Sánchez Para: 6 personas\n",
            "Reservación: Luisa Fernández Para: 3 personas\n",
            "Reservación: Pedro Gómez Para: 5 personas\n"
          ]
        }
      ]
    },
    {
      "cell_type": "markdown",
      "source": [
        "👥 Considerando la cantidad de estudiantes, es posible resolver este reto en equipos o de manera individual.\n",
        "\n",
        "📚 Define un diccionario con al menos 5 libros disponibles. Con los siguientes datos:\n",
        "Puedes usar una clave alfanumérica para cada libro.\n",
        "Cada clave debe contener un diccionario que contenga:\n",
        "título\n",
        "autor\n",
        "año\n",
        "📖 Crear un conjunto vacío que almacenara los libros que serán prestados.\n",
        "\n",
        "➕ Prestar un libro:\n",
        "\n",
        "Verificar si el libro ya está prestado.\n",
        "Si no está prestado, añadirlo al conjunto de libros prestados, y mostrar un mensaje personalizado.\n",
        "✉️ Libro 'The Great Gatsby' prestado con éxito.\n",
        "# o en caso contrario...\n",
        "✉️ Este libro ya está prestado.\n",
        "🔄 Devolver un libro:\n",
        "\n",
        "Verificar si el libro está prestado.\n",
        "Si está prestado, eliminarlo del conjunto de libros prestados, y mostrar un mensaje personalizado.\n",
        "✉️ Libro 'The Great Gatsby' devuelto con éxito.\n",
        "\n",
        "✉️ Este libro no está prestado.\n",
        "📋 Mostrar los libros disponibles:\n",
        "\n",
        "Mostrar un mensaje indicando los libros disponibles para préstamo.\n",
        "📚 Libros disponibles para préstamo:\n",
        "- 'Ready Player One'\n",
        "- 'Top Gun: Maverick'\n",
        "- 'Gran Turismo'"
      ],
      "metadata": {
        "id": "By9rFyF3Kyl_"
      }
    },
    {
      "cell_type": "code",
      "execution_count": 1,
      "metadata": {
        "id": "VrisC5WfKihq",
        "colab": {
          "base_uri": "https://localhost:8080/"
        },
        "outputId": "b3c6947b-447f-4454-a7e3-8ef24356ef4e"
      },
      "outputs": [
        {
          "output_type": "stream",
          "name": "stdout",
          "text": [
            "Introduce clave del libro: L001\n",
            "El libro \"The Great Gatsby\" ha sido prestado.\n",
            "Introduce clave del libro: L001\n",
            "El libro \"The Great Gatsby\" ha sido devuelto con éxito.\n",
            "\n",
            " Lista de libros disponibles:\n",
            "L002: 1984 - George Orwell (1949)\n",
            "L003: Ready Player One - Ernest Cline (2011)\n",
            "L004: Top Gun: Maverick - Jim Cash (2022)\n",
            "L005: Gran Turismo - Kazunori Yamauchi (2023)\n",
            "L001: The Great Gatsby - F. Scott Fitzgerald (1925)\n"
          ]
        }
      ],
      "source": [
        "# Diccionario de libros disponibles\n",
        "libros = {\n",
        "    \"L001\": {\"título\": \"The Great Gatsby\", \"autor\": \"F. Scott Fitzgerald\", \"año\": 1925},\n",
        "    \"L002\": {\"título\": \"1984\", \"autor\": \"George Orwell\", \"año\": 1949},\n",
        "    \"L003\": {\"título\": \"Ready Player One\", \"autor\": \"Ernest Cline\", \"año\": 2011},\n",
        "    \"L004\": {\"título\": \"Top Gun: Maverick\", \"autor\": \"Jim Cash\", \"año\": 2022},\n",
        "    \"L005\": {\"título\": \"Gran Turismo\", \"autor\": \"Kazunori Yamauchi\", \"año\": 2023},\n",
        "}\n",
        "\n",
        "# Diccionario para almacenar libros prestados\n",
        "libros_prestados = {}\n",
        "\n",
        "# Pedir la clave del libro al usuario\n",
        "clave = input('Introduce clave del libro: ')\n",
        "\n",
        "# Verificar disponibilidad y prestar el libro; borrar libro de directorio inicial\n",
        "# y mover a libros prestados\n",
        "if clave in libros:\n",
        "    if clave not in libros_prestados:\n",
        "        libros_prestados[clave] = libros.pop(clave)  # Mover libro de 'libros' a 'libros_prestados'\n",
        "        print(f'El libro \"{libros_prestados[clave][\"título\"]}\" ha sido prestado.')\n",
        "    else:\n",
        "        print('El libro ya está prestado.')\n",
        "else:\n",
        "    print('El libro no existe.')\n",
        "\n",
        "# Cuando regresan el libro\n",
        "clave = input('Introduce clave del libro: ')\n",
        "\n",
        "if clave in libros_prestados:\n",
        "    libros[clave] = libros_prestados.pop(clave)  # Mover libro de 'libros_prestados' a 'libros'\n",
        "    print(f'El libro \"{libros[clave][\"título\"]}\" ha sido devuelto con éxito.')\n",
        "else:\n",
        "    print('El libro no estaba prestado o la clave es incorrecta.')\n",
        "\n",
        "# Mostrar el directorio completo de libros\n",
        "print(\"\\n Lista de libros disponibles:\")\n",
        "for clave, datos in libros.items():\n",
        "    print(f'{clave}: {datos[\"título\"]} - {datos[\"autor\"]} ({datos[\"año\"]})')"
      ]
    },
    {
      "cell_type": "code",
      "source": [
        "if clave in Libros:\n",
        "  print('El libro esta disponible')\n",
        " else:\n",
        "  print('El libro está prestado')"
      ],
      "metadata": {
        "id": "jt71JfhFCvXn"
      },
      "execution_count": null,
      "outputs": []
    }
  ]
}