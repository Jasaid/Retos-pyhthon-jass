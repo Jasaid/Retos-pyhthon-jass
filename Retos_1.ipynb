{
  "nbformat": 4,
  "nbformat_minor": 0,
  "metadata": {
    "colab": {
      "provenance": []
    },
    "kernelspec": {
      "name": "python3",
      "display_name": "Python 3"
    },
    "language_info": {
      "name": "python"
    }
  },
  "cells": [
    {
      "cell_type": "markdown",
      "source": [
        "SOLUCIÓN DE RETOS"
      ],
      "metadata": {
        "id": "BOfyK_5xhb_E"
      }
    },
    {
      "cell_type": "markdown",
      "source": [
        "Reto 1"
      ],
      "metadata": {
        "id": "QPXGyoy5hn5i"
      }
    },
    {
      "cell_type": "code",
      "execution_count": 1,
      "metadata": {
        "colab": {
          "base_uri": "https://localhost:8080/"
        },
        "id": "SVEa1SvdhZtc",
        "outputId": "62fcc6a2-82f6-4fe9-ebb1-afdecef952f1"
      },
      "outputs": [
        {
          "output_type": "stream",
          "name": "stdout",
          "text": [
            "Información del Curso 1:\n",
            "Nombre: Introducción a Python\n",
            "Código: 101\n",
            "Duración: 12.5 horas\n",
            "Disponible: Sí\n",
            "\n",
            "Información del Curso 2:\n",
            "Nombre: Programación Avanzada en Python\n",
            "Código: 102\n",
            "Duración: 20.0 horas\n",
            "Disponible: No\n",
            "\n",
            "Información del Curso 3:\n",
            "Nombre: Machine Learning con Python\n",
            "Código: 103\n",
            "Duración: 30.5 horas\n",
            "Disponible: Sí\n"
          ]
        }
      ],
      "source": [
        "# Declara las variables correspondientes para almacenar la siguiente información de al menos 3 cursos:\n",
        "\n",
        "# Nombre del curso (String).\n",
        "# Código numérico del curso (Integer).\n",
        "# Duración en horas del curso (Float).\n",
        "# Disponibilidad para inscripción (Boolean).\n",
        "\n",
        "# 🖨️ Imprime la información de cada curso de la siguiente manera:\n",
        "\n",
        "#Curso: Introducción a Python - Código:  101 - Duración:  45.5 horas - Disponible:  True\n",
        "#Desafío adicional: Intenta agregar más cursos y mejorar la estructura de datos\n",
        "# para facilitar la manipulación y visualización de la información.\n",
        "\n",
        "# Curso 1\n",
        "nombre_curso_1 = \"Introducción a Python\"\n",
        "codigo_curso_1 = 101\n",
        "duracion_curso_1 = 12.5  # Duración en horas\n",
        "disponible_curso_1 = True  # Disponibilidad para inscripción\n",
        "\n",
        "# Curso 2\n",
        "nombre_curso_2 = \"Programación Avanzada en Python\"\n",
        "codigo_curso_2 = 102\n",
        "duracion_curso_2 = 20.0  # Duración en horas\n",
        "disponible_curso_2 = False  # Disponibilidad para inscripción\n",
        "\n",
        "# Curso 3\n",
        "nombre_curso_3 = \"Machine Learning con Python\"\n",
        "codigo_curso_3 = 103\n",
        "duracion_curso_3 = 30.5  # Duración en horas\n",
        "disponible_curso_3 = True  # Disponibilidad para inscripción\n",
        "\n",
        "# Mostrar información del Curso 1\n",
        "print(\"Información del Curso 1:\")\n",
        "print(f\"Nombre: {nombre_curso_1}\")\n",
        "print(f\"Código: {codigo_curso_1}\")\n",
        "print(f\"Duración: {duracion_curso_1} horas\")\n",
        "print(f\"Disponible: {'Sí' if disponible_curso_1 else 'No'}\")\n",
        "print()\n",
        "\n",
        "# Mostrar información del Curso 2\n",
        "print(\"Información del Curso 2:\")\n",
        "print(f\"Nombre: {nombre_curso_2}\")\n",
        "print(f\"Código: {codigo_curso_2}\")\n",
        "print(f\"Duración: {duracion_curso_2} horas\")\n",
        "print(f\"Disponible: {'Sí' if disponible_curso_2 else 'No'}\")\n",
        "print()\n",
        "\n",
        "# Mostrar información del Curso 3\n",
        "print(\"Información del Curso 3:\")\n",
        "print(f\"Nombre: {nombre_curso_3}\")\n",
        "print(f\"Código: {codigo_curso_3}\")\n",
        "print(f\"Duración: {duracion_curso_3} horas\")\n",
        "print(f\"Disponible: {'Sí' if disponible_curso_3 else 'No'}\")"
      ]
    },
    {
      "cell_type": "markdown",
      "source": [
        "Reto 2\n"
      ],
      "metadata": {
        "id": "X_Vc0Zbcj7DC"
      }
    },
    {
      "cell_type": "code",
      "source": [
        "# Asignación múltiple para los productos\n",
        "(nombre_producto1, precio1, stock1, cantidad1) = (\"Laptop Gamer X\", 1200, 15, 3)\n",
        "(nombre_producto2, precio2, stock2, cantidad2) = (\"Teclado Mecánico RGB\", 80, 50, 12)\n",
        "(nombre_producto3, precio3, stock3, cantidad3) = (\"Mouse Inalámbrico\", 30, 100, 25)\n",
        "\n",
        "# Mostrar los datos del primer producto\n",
        "print(f\"Producto 1: {nombre_producto1}\")\n",
        "print(f\"Precio: ${precio1}\")\n",
        "print(f\"Stock: {stock1} unidades\")\n",
        "print(f\"Cantidad a comprar: {cantidad1} unidades\")\n",
        "print()\n",
        "\n",
        "# Mostrar los datos del segundo producto\n",
        "print(f\"Producto 2: {nombre_producto2}\")\n",
        "print(f\"Precio: ${precio2}\")\n",
        "print(f\"Stock: {stock2} unidades\")\n",
        "print(f\"Cantidad a comprar: {cantidad2} unidades\")\n",
        "print()\n",
        "\n",
        "# Mostrar los datos del tercer producto\n",
        "print(f\"Producto 3: {nombre_producto3}\")\n",
        "print(f\"Precio: ${precio3}\")\n",
        "print(f\"Stock: {stock3} unidades\")\n",
        "print(f\"Cantidad a comprar: {cantidad3} unidades\")\n",
        "\n",
        "# Datos de los productos\n",
        "(nombre1, precio1, stock1, cantidad1) = (\"Laptop Gamer X\", 1200, 15, 3)\n",
        "(nombre2, precio2, stock2, cantidad2) = (\"Teclado Mecánico RGB\", 80, 50, 12)\n",
        "(nombre3, precio3, stock3, cantidad3) = (\"Mouse Inalámbrico\", 30, 100, 25)\n",
        "(nombre4, precio4, stock4, cantidad4) = (\"Monitor 24\\\" Full HD\", 150, 20, 5)\n",
        "(nombre5, precio5, stock5, cantidad5) = (\"Auriculares Bluetooth\", 60, 75, 18)\n",
        "\n",
        "# 1. Comparar si el stock de un producto es mayor que el de otro\n",
        "comparacion_stock = stock1 > stock2\n",
        "print(f\"1. ¿El stock de {nombre1} es mayor que el de {nombre2}? {comparacion_stock}\")\n",
        "\n",
        "# 2. Verificar si un producto específico tiene un precio mayor a 20 y su stock es menor a 5\n",
        "condicion_precio_stock = (precio3 > 20) and (stock3 < 5)\n",
        "print(f\"2. ¿{nombre3} tiene un precio mayor a 20 y un stock menor a 5? {condicion_precio_stock}\")\n",
        "\n",
        "# 3. Comprobar si dos productos tienen el mismo nombre\n",
        "mismo_nombre = nombre1 == nombre2\n",
        "print(f\"3. ¿{nombre1} y {nombre2} tienen el mismo nombre? {mismo_nombre}\")\n",
        "\n",
        "# 4. Evaluar si el precio de un producto multiplicado por su cantidad es mayor que 100\n",
        "precio_por_cantidad = precio4 * cantidad4 > 100\n",
        "print(f\"4. ¿El precio de {nombre4} multiplicado por su cantidad es mayor que 100? {precio_por_cantidad}\")\n",
        "\n",
        "# 5. Comparar si la cantidad de un producto es mayor a 10\n",
        "cantidad_mayor_10 = cantidad5 > 10\n",
        "print(f\"5. ¿La cantidad de {nombre5} es mayor a 10? {cantidad_mayor_10}\")\n",
        "\n",
        "# 6. Aplicar un descuento del 15% en el precio de un producto utilizando operadores de asignación\n",
        "descuento = 0.15\n",
        "precio1 *= (1 - descuento)  # Aplicar descuento al precio1\n",
        "print(f\"6. Precio de {nombre1} con 15% de descuento: ${precio1:.2f}\")\n",
        "\n",
        "# 7. Calcular y almacenar el total a pagar por los cinco productos\n",
        "total_pagar = (\n",
        "    (precio1 * cantidad1) +\n",
        "    (precio2 * cantidad2) +\n",
        "    (precio3 * cantidad3) +\n",
        "    (precio4 * cantidad4) +\n",
        "    (precio5 * cantidad5)\n",
        ")\n",
        "\n",
        "# 8. Imprimir el total a pagar\n",
        "print(f\"8. Total a pagar por los cinco productos: ${total_pagar:.2f}\")\n",
        "\n"
      ],
      "metadata": {
        "colab": {
          "base_uri": "https://localhost:8080/"
        },
        "id": "hEpCBx42jVIO",
        "outputId": "785f96dd-02ca-4abc-abc9-acc66eba5b4a"
      },
      "execution_count": 5,
      "outputs": [
        {
          "output_type": "stream",
          "name": "stdout",
          "text": [
            "Producto 1: Laptop Gamer X\n",
            "Precio: $1200\n",
            "Stock: 15 unidades\n",
            "Cantidad a comprar: 3 unidades\n",
            "\n",
            "Producto 2: Teclado Mecánico RGB\n",
            "Precio: $80\n",
            "Stock: 50 unidades\n",
            "Cantidad a comprar: 12 unidades\n",
            "\n",
            "Producto 3: Mouse Inalámbrico\n",
            "Precio: $30\n",
            "Stock: 100 unidades\n",
            "Cantidad a comprar: 25 unidades\n",
            "1. ¿El stock de Laptop Gamer X es mayor que el de Teclado Mecánico RGB? False\n",
            "2. ¿Mouse Inalámbrico tiene un precio mayor a 20 y un stock menor a 5? False\n",
            "3. ¿Laptop Gamer X y Teclado Mecánico RGB tienen el mismo nombre? False\n",
            "4. ¿El precio de Monitor 24\" Full HD multiplicado por su cantidad es mayor que 100? True\n",
            "5. ¿La cantidad de Auriculares Bluetooth es mayor a 10? True\n",
            "6. Precio de Laptop Gamer X con 15% de descuento: $1020.00\n",
            "8. Total a pagar por los cinco productos: $6600.00\n"
          ]
        }
      ]
    },
    {
      "cell_type": "markdown",
      "source": [
        "Reto 3"
      ],
      "metadata": {
        "id": "gOqs-8qGmBlx"
      }
    },
    {
      "cell_type": "code",
      "source": [
        "# Solicitar datos del automóvil\n",
        "modelo_auto = input(\"Ingresa el modelo del automóvil que deseas comprar: \")\n",
        "precio_auto = float(input(\"Ingresa el precio total del automóvil: \"))\n",
        "meses_financiamiento = int(input(\"Ingresa el número de meses para el financiamiento (12, 24, 36, 48, 60): \"))\n",
        "\n",
        "# Calcular la cuota mensual\n",
        "cuota_mensual = precio_auto / meses_financiamiento\n",
        "\n",
        "# Mostrar detalles del financiamiento\n",
        "print(\"\\nDetalles del financiamiento:\")\n",
        "print(f\"Modelo del automóvil seleccionado: {modelo_auto}\")\n",
        "print(f\"Precio total del automóvil: ${precio_auto:.2f}\")\n",
        "print(f\"Número de meses del financiamiento: {meses_financiamiento}\")\n",
        "print(f\"Cuota mensual: ${cuota_mensual:.2f}\")\n",
        "\n",
        "# Generar tabla de amortización simple para los primeros dos meses\n",
        "saldo_pendiente = precio_auto\n",
        "\n",
        "# Primer mes\n",
        "pago_primer_mes = cuota_mensual\n",
        "saldo_pendiente -= pago_primer_mes\n",
        "print(\"\\nTabla de amortización (primeros dos meses):\")\n",
        "print(f\"1. Pago del primer mes: ${pago_primer_mes:.2f}\")\n",
        "print(f\"   Saldo pendiente: ${saldo_pendiente:.2f}\")\n",
        "\n",
        "# Segundo mes\n",
        "pago_segundo_mes = cuota_mensual\n",
        "saldo_pendiente -= pago_segundo_mes\n",
        "print(f\"2. Pago del segundo mes: ${pago_segundo_mes:.2f}\")\n",
        "print(f\"   Saldo pendiente: ${saldo_pendiente:.2f}\")\n",
        "\n",
        "# Mensaje de despedida\n",
        "print(\"\\n¡Gracias por utilizar nuestro sistema de financiamiento!\")\n",
        "+print(f\"Esperamos que disfrutes tu nuevo {modelo_auto}. ¡Buen viaje!\")"
      ],
      "metadata": {
        "colab": {
          "base_uri": "https://localhost:8080/"
        },
        "id": "jz95uDGMmDiV",
        "outputId": "09701cdc-2ddd-44cc-ef63-2291c937234b"
      },
      "execution_count": 6,
      "outputs": [
        {
          "output_type": "stream",
          "name": "stdout",
          "text": [
            "Ingresa el modelo del automóvil que deseas comprar: 2017\n",
            "Ingresa el precio total del automóvil: 250000\n",
            "Ingresa el número de meses para el financiamiento (12, 24, 36, 48, 60): 60\n",
            "\n",
            "Detalles del financiamiento:\n",
            "Modelo del automóvil seleccionado: 2017\n",
            "Precio total del automóvil: $250000.00\n",
            "Número de meses del financiamiento: 60\n",
            "Cuota mensual: $4166.67\n",
            "\n",
            "Tabla de amortización (primeros dos meses):\n",
            "1. Pago del primer mes: $4166.67\n",
            "   Saldo pendiente: $245833.33\n",
            "2. Pago del segundo mes: $4166.67\n",
            "   Saldo pendiente: $241666.67\n",
            "\n",
            "¡Gracias por utilizar nuestro sistema de financiamiento!\n",
            "Esperamos que disfrutes tu nuevo 2017. ¡Buen viaje!\n"
          ]
        }
      ]
    },
    {
      "cell_type": "markdown",
      "source": [
        "POSTWORK"
      ],
      "metadata": {
        "id": "kRsYAykCq58f"
      }
    },
    {
      "cell_type": "code",
      "source": [
        "# Solicitar datos del empleado\n",
        "nombre_empleado = input(\"Ingresa el nombre del empleado: \")\n",
        "salario_diario = float(input(\"Ingresa el salario diario del empleado: \"))\n",
        "horas_extras = int(input(\"Ingresa las horas extras trabajadas en la semana: \"))\n",
        "\n",
        "# Calcular la tarifa por hora\n",
        "tarifa_hora = salario_diario / 8\n",
        "\n",
        "# Calcular el pago por horas extras\n",
        "# Si horas_extras <= 9, se pagan al doble; si son más, las primeras 9 al doble y el resto al triple\n",
        "pago_horas_extras = (\n",
        "    (horas_extras <= 9) * (horas_extras * 2 * tarifa_hora) +  # Pago si horas_extras <= 9\n",
        "    (horas_extras > 9) * (9 * 2 * tarifa_hora + (horas_extras - 9) * 3 * tarifa_hora)  # Pago si horas_extras > 9\n",
        ")\n",
        "\n",
        "# Mostrar el resultado\n",
        "print(f\"\\nEl empleado {nombre_empleado} trabajó {horas_extras} horas extras.\")\n",
        "print(f\"El pago por horas extras es: ${pago_horas_extras:.2f}\")"
      ],
      "metadata": {
        "colab": {
          "base_uri": "https://localhost:8080/"
        },
        "id": "bjlbXek6q-Yk",
        "outputId": "d24aff8c-8b4d-4dc1-b8b9-96bea27e27d0"
      },
      "execution_count": 7,
      "outputs": [
        {
          "output_type": "stream",
          "name": "stdout",
          "text": [
            "Ingresa el nombre del empleado: Joaquín Pérez\n",
            "Ingresa el salario diario del empleado: 300\n",
            "Ingresa las horas extras trabajadas en la semana: 10\n",
            "\n",
            "El empleado Joaquín Pérez trabajó 10 horas extras.\n",
            "El pago por horas extras es: $787.50\n"
          ]
        }
      ]
    },
    {
      "cell_type": "markdown",
      "source": [],
      "metadata": {
        "id": "sqMZbdSDhauI"
      }
    }
  ]
}